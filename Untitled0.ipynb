{
  "nbformat": 4,
  "nbformat_minor": 0,
  "metadata": {
    "colab": {
      "provenance": [],
      "authorship_tag": "ABX9TyP7JiSPIVIfQr5rwQusq5eY",
      "include_colab_link": true
    },
    "kernelspec": {
      "name": "python3",
      "display_name": "Python 3"
    },
    "language_info": {
      "name": "python"
    }
  },
  "cells": [
    {
      "cell_type": "markdown",
      "metadata": {
        "id": "view-in-github",
        "colab_type": "text"
      },
      "source": [
        "<a href=\"https://colab.research.google.com/github/afrudeensh/ANGULAR-CRUD-OPERATIONS/blob/main/Untitled0.ipynb\" target=\"_parent\"><img src=\"https://colab.research.google.com/assets/colab-badge.svg\" alt=\"Open In Colab\"/></a>"
      ]
    },
    {
      "cell_type": "code",
      "source": [
        "#Basics of Python\n",
        "\n",
        "num1 = int(input(\"Enter num1:\"))\n",
        "num2 = int(input(\"Enter num2:\"))\n",
        "print(\"add\",num1+num2)\n",
        "print(\"sub\",num1-num2)\n",
        "print(\"multiply\",num1*num2)\n",
        "print(\"division\",num1/num2)\n",
        "print(\"floor division\",num1//num2)\n",
        "print(\"modulator\",num1%num2)#gives result as remainder\n",
        "print(\"power\",num1**num2)"
      ],
      "metadata": {
        "id": "U1WQb9nynefe",
        "colab": {
          "base_uri": "https://localhost:8080/"
        },
        "outputId": "96588766-8500-4a1f-d1a1-d5f1d6618280"
      },
      "execution_count": 4,
      "outputs": [
        {
          "output_type": "stream",
          "name": "stdout",
          "text": [
            "Enter num1:2\n",
            "Enter num2:2\n",
            "add 4\n",
            "sub 0\n",
            "multiply 4\n",
            "division 1.0\n",
            "floor division 1\n",
            "modulator 0\n",
            "power 4\n"
          ]
        }
      ]
    },
    {
      "cell_type": "code",
      "source": [
        "var9 =10\n",
        "print(var9)"
      ],
      "metadata": {
        "colab": {
          "base_uri": "https://localhost:8080/"
        },
        "id": "3RpCECQl68NP",
        "outputId": "b0d598b9-ee62-400f-bebe-1f72d7d13f5f"
      },
      "execution_count": 2,
      "outputs": [
        {
          "output_type": "stream",
          "name": "stdout",
          "text": [
            "10\n"
          ]
        }
      ]
    },
    {
      "cell_type": "code",
      "source": [
        "##Simplying Arithmetic Operations\n",
        "\n",
        "print(round(5.52345)) #round function \n",
        "print(round(5.423))\n",
        "print(round(5.5778,2))"
      ],
      "metadata": {
        "colab": {
          "base_uri": "https://localhost:8080/"
        },
        "id": "X-T2kSrs7tIQ",
        "outputId": "5f4e69c9-a47b-4c2a-8f6f-619b7efa315a"
      },
      "execution_count": 4,
      "outputs": [
        {
          "output_type": "stream",
          "name": "stdout",
          "text": [
            "6\n",
            "5\n",
            "5.58\n"
          ]
        }
      ]
    },
    {
      "cell_type": "code",
      "source": [
        "2**5"
      ],
      "metadata": {
        "colab": {
          "base_uri": "https://localhost:8080/"
        },
        "id": "CDd0DKtu8Xks",
        "outputId": "5aea7fee-c3f9-4e97-bc3d-aa77426ba291"
      },
      "execution_count": 5,
      "outputs": [
        {
          "output_type": "execute_result",
          "data": {
            "text/plain": [
              "32"
            ]
          },
          "metadata": {},
          "execution_count": 5
        }
      ]
    },
    {
      "cell_type": "code",
      "source": [
        "a=10  #swapping two numbers\n",
        "b=20\n",
        "print(a,b)\n",
        "a=a+b # 10=30\n",
        "b=a-b # 20=-10\n",
        "a=a-b # 10 = -10\n",
        "print(a,b)"
      ],
      "metadata": {
        "colab": {
          "base_uri": "https://localhost:8080/"
        },
        "id": "n-CkO0Bw9lvJ",
        "outputId": "1834ed66-4c3b-4fe1-825d-6858b56f3f26"
      },
      "execution_count": 7,
      "outputs": [
        {
          "output_type": "stream",
          "name": "stdout",
          "text": [
            "10 20\n",
            "20 10\n"
          ]
        }
      ]
    },
    {
      "cell_type": "code",
      "source": [
        "#complex( ) is used to define a complex number and abs( ) outputs the absolute value of the same.\n",
        "c=complex(5+2j)\n",
        "print(c)\n",
        "abs(c)"
      ],
      "metadata": {
        "colab": {
          "base_uri": "https://localhost:8080/"
        },
        "id": "ujhGYmwKFyBh",
        "outputId": "6b107a59-ee19-4f3e-8222-afc6ef9612d6"
      },
      "execution_count": 12,
      "outputs": [
        {
          "output_type": "stream",
          "name": "stdout",
          "text": [
            "(5+2j)\n"
          ]
        },
        {
          "output_type": "execute_result",
          "data": {
            "text/plain": [
              "5.385164807134504"
            ]
          },
          "metadata": {},
          "execution_count": 12
        }
      ]
    },
    {
      "cell_type": "code",
      "source": [],
      "metadata": {
        "id": "lKWAzeZkGOHs"
      },
      "execution_count": null,
      "outputs": []
    }
  ]
}